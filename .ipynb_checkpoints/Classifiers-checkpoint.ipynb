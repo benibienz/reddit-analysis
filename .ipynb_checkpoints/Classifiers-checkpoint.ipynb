{
 "cells": [
  {
   "cell_type": "code",
   "execution_count": 1,
   "metadata": {},
   "outputs": [],
   "source": [
    "import pandas as pd\n",
    "import numpy as np\n",
    "import os\n",
    "from sklearn.model_selection import train_test_split\n",
    "from sklearn.preprocessing import StandardScaler\n",
    "from sklearn.neighbors import KNeighborsClassifier\n",
    "from sklearn.naive_bayes import MultinomialNB\n",
    "from sklearn.linear_model import LogisticRegression\n",
    "from sklearn.linear_model import SGDClassifier\n",
    "from sklearn.tree import DecisionTreeClassifier\n",
    "from sklearn.model_selection import GridSearchCV\n",
    "from sklearn.metrics import f1_score\n",
    "import graphviz, pydotplus\n",
    "from sklearn.tree import export_graphviz\n",
    "from prettytable import PrettyTable"
   ]
  },
  {
   "cell_type": "code",
   "execution_count": 2,
   "metadata": {},
   "outputs": [],
   "source": [
    "def extractData(csvFile):\n",
    "    df = pd.read_csv(csvFile)\n",
    "    y = df['label']\n",
    "    X = df.drop(columns = ['accountName', 'label'])\n",
    "    \n",
    "    X_train, X_test, y_train, y_test = train_test_split(X, y, test_size = 0.15, random_state = 42, stratify = y)\n",
    "    scaler = StandardScaler()\n",
    "    scaler.fit_transform(X_train)\n",
    "    scaler.transform(X_test)\n",
    "    \n",
    "    return scaler, X_train, X_test, y_train, y_test"
   ]
  },
  {
   "cell_type": "code",
   "execution_count": 3,
   "metadata": {},
   "outputs": [],
   "source": [
    "scaler, X_train, X_test, y_train, y_test = extractData('Data/All_Accounts.csv')"
   ]
  },
  {
   "cell_type": "code",
   "execution_count": 34,
   "metadata": {},
   "outputs": [
    {
     "data": {
      "text/plain": [
       "((494, 10), (88, 10), (494,), (88,))"
      ]
     },
     "execution_count": 34,
     "metadata": {},
     "output_type": "execute_result"
    }
   ],
   "source": [
    "X_train.shape, X_test.shape, y_train.shape, y_test.shape"
   ]
  },
  {
   "cell_type": "code",
   "execution_count": 35,
   "metadata": {},
   "outputs": [
    {
     "name": "stdout",
     "output_type": "stream",
     "text": [
      "Fitting 3 folds for each of 10 candidates, totalling 30 fits\n",
      "[CV] n_neighbors=1 ...................................................\n",
      "[CV] ....................... n_neighbors=1, score=0.822, total=   0.0s\n",
      "[CV] n_neighbors=1 ...................................................\n",
      "[CV] ....................... n_neighbors=1, score=0.798, total=   0.0s\n",
      "[CV] n_neighbors=1 ...................................................\n",
      "[CV] ....................... n_neighbors=1, score=0.818, total=   0.0s\n",
      "[CV] n_neighbors=5 ...................................................\n",
      "[CV] ....................... n_neighbors=5, score=0.830, total=   0.0s\n",
      "[CV] n_neighbors=5 ...................................................\n",
      "[CV] ....................... n_neighbors=5, score=0.838, total=   0.0s\n",
      "[CV] n_neighbors=5 ...................................................\n",
      "[CV] ....................... n_neighbors=5, score=0.840, total=   0.0s\n",
      "[CV] n_neighbors=9 ...................................................\n",
      "[CV] ....................... n_neighbors=9, score=0.827, total=   0.0s\n",
      "[CV] n_neighbors=9 ...................................................\n",
      "[CV] ....................... n_neighbors=9, score=0.849, total=   0.0s\n",
      "[CV] n_neighbors=9 ...................................................\n",
      "[CV] ....................... n_neighbors=9, score=0.844, total=   0.0s\n",
      "[CV] n_neighbors=13 ..................................................\n",
      "[CV] ...................... n_neighbors=13, score=0.827, total=   0.0s\n",
      "[CV] n_neighbors=13 ..................................................\n",
      "[CV] ...................... n_neighbors=13, score=0.830, total=   0.0s\n",
      "[CV] n_neighbors=13 ..................................................\n",
      "[CV] ...................... n_neighbors=13, score=0.836, total=   0.0s\n",
      "[CV] n_neighbors=17 ..................................................\n",
      "[CV] ...................... n_neighbors=17, score=0.813, total=   0.0s\n",
      "[CV] n_neighbors=17 ..................................................\n",
      "[CV] ...................... n_neighbors=17, score=0.841, total=   0.0s\n",
      "[CV] n_neighbors=17 ..................................................\n",
      "[CV] ...................... n_neighbors=17, score=0.836, total=   0.0s\n",
      "[CV] n_neighbors=21 ..................................................\n",
      "[CV] ...................... n_neighbors=21, score=0.815, total=   0.0s\n",
      "[CV] n_neighbors=21 ..................................................\n",
      "[CV] ...................... n_neighbors=21, score=0.841, total=   0.0s\n",
      "[CV] n_neighbors=21 ..................................................\n"
     ]
    },
    {
     "name": "stderr",
     "output_type": "stream",
     "text": [
      "[Parallel(n_jobs=1)]: Using backend SequentialBackend with 1 concurrent workers.\n",
      "[Parallel(n_jobs=1)]: Done   1 out of   1 | elapsed:    0.0s remaining:    0.0s\n",
      "[Parallel(n_jobs=1)]: Done   2 out of   2 | elapsed:    0.0s remaining:    0.0s\n"
     ]
    },
    {
     "name": "stdout",
     "output_type": "stream",
     "text": [
      "[CV] ...................... n_neighbors=21, score=0.827, total=   0.0s\n",
      "[CV] n_neighbors=25 ..................................................\n",
      "[CV] ...................... n_neighbors=25, score=0.813, total=   0.0s\n",
      "[CV] n_neighbors=25 ..................................................\n",
      "[CV] ...................... n_neighbors=25, score=0.836, total=   0.0s\n",
      "[CV] n_neighbors=25 ..................................................\n",
      "[CV] ...................... n_neighbors=25, score=0.822, total=   0.0s\n",
      "[CV] n_neighbors=31 ..................................................\n",
      "[CV] ...................... n_neighbors=31, score=0.796, total=   0.0s\n",
      "[CV] n_neighbors=31 ..................................................\n",
      "[CV] ...................... n_neighbors=31, score=0.827, total=   0.0s\n",
      "[CV] n_neighbors=31 ..................................................\n",
      "[CV] ...................... n_neighbors=31, score=0.818, total=   0.0s\n",
      "[CV] n_neighbors=41 ..................................................\n",
      "[CV] ...................... n_neighbors=41, score=0.779, total=   0.0s\n",
      "[CV] n_neighbors=41 ..................................................\n",
      "[CV] ...................... n_neighbors=41, score=0.818, total=   0.0s\n",
      "[CV] n_neighbors=41 ..................................................\n",
      "[CV] ...................... n_neighbors=41, score=0.804, total=   0.0s\n",
      "[CV] n_neighbors=51 ..................................................\n",
      "[CV] ...................... n_neighbors=51, score=0.779, total=   0.0s\n",
      "[CV] n_neighbors=51 ..................................................\n",
      "[CV] ...................... n_neighbors=51, score=0.809, total=   0.0s\n",
      "[CV] n_neighbors=51 ..................................................\n",
      "[CV] ...................... n_neighbors=51, score=0.802, total=   0.0s\n"
     ]
    },
    {
     "name": "stderr",
     "output_type": "stream",
     "text": [
      "[Parallel(n_jobs=1)]: Done  30 out of  30 | elapsed:    0.4s finished\n"
     ]
    }
   ],
   "source": [
    "clf_knn = KNeighborsClassifier()\n",
    "k_list = [1, 5, 9, 13, 17, 21, 25, 31, 41, 51]\n",
    "parameters = {'n_neighbors': k_list}\n",
    "gs_cv_knn = GridSearchCV(clf_knn, parameters, cv = 3, scoring = 'f1', verbose = 3)\n",
    "gs_cv_knn.fit(X_train, y_train)\n",
    "clf_knn = gs_cv_knn.best_estimator_"
   ]
  },
  {
   "cell_type": "code",
   "execution_count": 48,
   "metadata": {},
   "outputs": [
    {
     "name": "stdout",
     "output_type": "stream",
     "text": [
      "0.8409090909090909 KNeighborsClassifier(algorithm='auto', leaf_size=30, metric='minkowski',\n",
      "                     metric_params=None, n_jobs=None, n_neighbors=9, p=2,\n",
      "                     weights='uniform')\n"
     ]
    }
   ],
   "source": [
    "clf_knn.fit(X_train, y_train)\n",
    "y_pred_knn = clf_knn.predict(X_test)\n",
    "print(f1_score(y_test, y_pred_knn), clf_knn)"
   ]
  },
  {
   "cell_type": "code",
   "execution_count": 50,
   "metadata": {},
   "outputs": [
    {
     "name": "stdout",
     "output_type": "stream",
     "text": [
      "Fitting 3 folds for each of 10 candidates, totalling 30 fits\n",
      "[CV] alpha=1e-05 .....................................................\n",
      "[CV] ......................... alpha=1e-05, score=0.670, total=   0.0s\n",
      "[CV] alpha=1e-05 .....................................................\n",
      "[CV] ......................... alpha=1e-05, score=0.722, total=   0.0s\n",
      "[CV] alpha=1e-05 .....................................................\n",
      "[CV] ......................... alpha=1e-05, score=0.649, total=   0.0s\n",
      "[CV] alpha=0.0001 ....................................................\n",
      "[CV] ........................ alpha=0.0001, score=0.670, total=   0.0s\n",
      "[CV] alpha=0.0001 ....................................................\n",
      "[CV] ........................ alpha=0.0001, score=0.722, total=   0.0s\n",
      "[CV] alpha=0.0001 ....................................................\n",
      "[CV] ........................ alpha=0.0001, score=0.649, total=   0.0s\n",
      "[CV] alpha=0.001 .....................................................\n",
      "[CV] ......................... alpha=0.001, score=0.670, total=   0.0s\n",
      "[CV] alpha=0.001 .....................................................\n",
      "[CV] ......................... alpha=0.001, score=0.722, total=   0.0s\n",
      "[CV] alpha=0.001 .....................................................\n",
      "[CV] ......................... alpha=0.001, score=0.649, total=   0.0s\n",
      "[CV] alpha=0.01 ......................................................\n",
      "[CV] .......................... alpha=0.01, score=0.670, total=   0.0s\n",
      "[CV] alpha=0.01 ......................................................\n",
      "[CV] .......................... alpha=0.01, score=0.722, total=   0.0s\n",
      "[CV] alpha=0.01 ......................................................\n",
      "[CV] .......................... alpha=0.01, score=0.649, total=   0.0s\n",
      "[CV] alpha=0.1 .......................................................\n",
      "[CV] ........................... alpha=0.1, score=0.670, total=   0.0s\n",
      "[CV] alpha=0.1 .......................................................\n",
      "[CV] ........................... alpha=0.1, score=0.722, total=   0.0s\n",
      "[CV] alpha=0.1 .......................................................\n",
      "[CV] ........................... alpha=0.1, score=0.649, total=   0.0s\n",
      "[CV] alpha=1 .........................................................\n",
      "[CV] ............................. alpha=1, score=0.670, total=   0.0s\n",
      "[CV] alpha=1 .........................................................\n",
      "[CV] ............................. alpha=1, score=0.722, total=   0.0s\n",
      "[CV] alpha=1 .........................................................\n",
      "[CV] ............................. alpha=1, score=0.649, total=   0.0s\n",
      "[CV] alpha=10 ........................................................\n",
      "[CV] ............................ alpha=10, score=0.670, total=   0.0s\n",
      "[CV] alpha=10 ........................................................\n",
      "[CV] ............................ alpha=10, score=0.722, total=   0.0s\n",
      "[CV] alpha=10 ........................................................\n",
      "[CV] ............................ alpha=10, score=0.649, total=   0.0s\n",
      "[CV] alpha=100 .......................................................\n",
      "[CV] ........................... alpha=100, score=0.670, total=   0.0s\n",
      "[CV] alpha=100 .......................................................\n",
      "[CV] ........................... alpha=100, score=0.718, total=   0.0s\n",
      "[CV] alpha=100 .......................................................\n",
      "[CV] ........................... alpha=100, score=0.649, total=   0.0s\n",
      "[CV] alpha=1000 ......................................................\n",
      "[CV] .......................... alpha=1000, score=0.667, total=   0.0s\n",
      "[CV] alpha=1000 ......................................................\n",
      "[CV] .......................... alpha=1000, score=0.704, total=   0.0s\n",
      "[CV] alpha=1000 ......................................................\n",
      "[CV] .......................... alpha=1000, score=0.646, total=   0.0s\n",
      "[CV] alpha=10000 .....................................................\n",
      "[CV] ......................... alpha=10000, score=0.661, total=   0.0s\n",
      "[CV] alpha=10000 .....................................................\n",
      "[CV] ......................... alpha=10000, score=0.676, total=   0.0s\n",
      "[CV] alpha=10000 .....................................................\n",
      "[CV] ......................... alpha=10000, score=0.649, total=   0.0s\n"
     ]
    },
    {
     "name": "stderr",
     "output_type": "stream",
     "text": [
      "[Parallel(n_jobs=1)]: Using backend SequentialBackend with 1 concurrent workers.\n",
      "[Parallel(n_jobs=1)]: Done   1 out of   1 | elapsed:    0.0s remaining:    0.0s\n",
      "[Parallel(n_jobs=1)]: Done   2 out of   2 | elapsed:    0.0s remaining:    0.0s\n",
      "[Parallel(n_jobs=1)]: Done  30 out of  30 | elapsed:    0.2s finished\n"
     ]
    }
   ],
   "source": [
    "clf_nb = MultinomialNB()\n",
    "alpha_list = [0.00001, 0.0001, 0.001, 0.01, 0.1, 1, 10, 100, 1000, 10000]\n",
    "parameters = {'alpha' : alpha_list}\n",
    "gs_cv_nb = GridSearchCV(clf_nb, parameters, cv = 3, scoring='f1', verbose=3)\n",
    "gs_cv_nb.fit(X_train, y_train)\n",
    "clf_nb = gs_cv_nb.best_estimator_"
   ]
  },
  {
   "cell_type": "code",
   "execution_count": 51,
   "metadata": {},
   "outputs": [
    {
     "name": "stdout",
     "output_type": "stream",
     "text": [
      "0.7079646017699116 MultinomialNB(alpha=1e-05, class_prior=None, fit_prior=True)\n"
     ]
    }
   ],
   "source": [
    "clf_nb.fit(X_train, y_train)\n",
    "y_pred_nb = clf_nb.predict(X_test)\n",
    "print(f1_score(y_test, y_pred_nb), clf_nb)"
   ]
  },
  {
   "cell_type": "code",
   "execution_count": 4,
   "metadata": {},
   "outputs": [
    {
     "name": "stdout",
     "output_type": "stream",
     "text": [
      "Fitting 3 folds for each of 10 candidates, totalling 30 fits\n",
      "[CV] C=1e-05 .........................................................\n",
      "[CV] ............................. C=1e-05, score=0.781, total=   0.1s\n",
      "[CV] C=1e-05 .........................................................\n",
      "[CV] ............................. C=1e-05, score=0.828, total=   0.0s\n",
      "[CV] C=1e-05 .........................................................\n",
      "[CV] ............................. C=1e-05, score=0.816, total=   0.0s\n",
      "[CV] C=0.0001 ........................................................\n",
      "[CV] ............................ C=0.0001, score=0.802, total=   0.0s\n",
      "[CV] C=0.0001 ........................................................\n",
      "[CV] ............................ C=0.0001, score=0.839, total=   0.0s\n",
      "[CV] C=0.0001 ........................................................\n",
      "[CV] ............................ C=0.0001, score=0.800, total=   0.0s\n",
      "[CV] C=0.001 .........................................................\n",
      "[CV] ............................. C=0.001, score=0.807, total=   0.0s\n",
      "[CV] C=0.001 .........................................................\n",
      "[CV] ............................. C=0.001, score=0.846, total=   0.0s\n",
      "[CV] C=0.001 .........................................................\n",
      "[CV] ............................. C=0.001, score=0.798, total=   0.0s\n",
      "[CV] C=0.01 ..........................................................\n",
      "[CV] .............................. C=0.01, score=0.800, total=   0.0s\n",
      "[CV] C=0.01 ..........................................................\n",
      "[CV] .............................. C=0.01, score=0.851, total=   0.0s\n",
      "[CV] C=0.01 ..........................................................\n",
      "[CV] .............................. C=0.01, score=0.812, total=   0.0s\n",
      "[CV] C=0.1 ...........................................................\n",
      "[CV] ............................... C=0.1, score=0.802, total=   0.0s\n",
      "[CV] C=0.1 ...........................................................\n",
      "[CV] ............................... C=0.1, score=0.855, total=   0.0s\n",
      "[CV] C=0.1 ...........................................................\n",
      "[CV] ............................... C=0.1, score=0.817, total=   0.0s\n",
      "[CV] C=1 .............................................................\n",
      "[CV] ................................. C=1, score=0.804, total=   0.0s\n",
      "[CV] C=1 .............................................................\n",
      "[CV] ................................. C=1, score=0.836, total=   0.0s\n",
      "[CV] C=1 .............................................................\n",
      "[CV] ................................. C=1, score=0.817, total=   0.0s\n",
      "[CV] C=10 ............................................................\n",
      "[CV] ................................ C=10, score=0.809, total=   0.0s\n",
      "[CV] C=10 ............................................................\n",
      "[CV] ................................ C=10, score=0.836, total=   0.0s\n",
      "[CV] C=10 ............................................................\n",
      "[CV] ................................ C=10, score=0.817, total=   0.0s\n",
      "[CV] C=100 ...........................................................\n"
     ]
    },
    {
     "name": "stderr",
     "output_type": "stream",
     "text": [
      "[Parallel(n_jobs=1)]: Using backend SequentialBackend with 1 concurrent workers.\n",
      "//anaconda3/lib/python3.7/site-packages/sklearn/linear_model/logistic.py:432: FutureWarning: Default solver will be changed to 'lbfgs' in 0.22. Specify a solver to silence this warning.\n",
      "  FutureWarning)\n",
      "[Parallel(n_jobs=1)]: Done   1 out of   1 | elapsed:    0.1s remaining:    0.0s\n",
      "//anaconda3/lib/python3.7/site-packages/sklearn/linear_model/logistic.py:432: FutureWarning: Default solver will be changed to 'lbfgs' in 0.22. Specify a solver to silence this warning.\n",
      "  FutureWarning)\n",
      "[Parallel(n_jobs=1)]: Done   2 out of   2 | elapsed:    0.1s remaining:    0.0s\n",
      "//anaconda3/lib/python3.7/site-packages/sklearn/linear_model/logistic.py:432: FutureWarning: Default solver will be changed to 'lbfgs' in 0.22. Specify a solver to silence this warning.\n",
      "  FutureWarning)\n",
      "//anaconda3/lib/python3.7/site-packages/sklearn/linear_model/logistic.py:432: FutureWarning: Default solver will be changed to 'lbfgs' in 0.22. Specify a solver to silence this warning.\n",
      "  FutureWarning)\n",
      "//anaconda3/lib/python3.7/site-packages/sklearn/linear_model/logistic.py:432: FutureWarning: Default solver will be changed to 'lbfgs' in 0.22. Specify a solver to silence this warning.\n",
      "  FutureWarning)\n",
      "//anaconda3/lib/python3.7/site-packages/sklearn/linear_model/logistic.py:432: FutureWarning: Default solver will be changed to 'lbfgs' in 0.22. Specify a solver to silence this warning.\n",
      "  FutureWarning)\n",
      "//anaconda3/lib/python3.7/site-packages/sklearn/linear_model/logistic.py:432: FutureWarning: Default solver will be changed to 'lbfgs' in 0.22. Specify a solver to silence this warning.\n",
      "  FutureWarning)\n",
      "//anaconda3/lib/python3.7/site-packages/sklearn/linear_model/logistic.py:432: FutureWarning: Default solver will be changed to 'lbfgs' in 0.22. Specify a solver to silence this warning.\n",
      "  FutureWarning)\n",
      "//anaconda3/lib/python3.7/site-packages/sklearn/linear_model/logistic.py:432: FutureWarning: Default solver will be changed to 'lbfgs' in 0.22. Specify a solver to silence this warning.\n",
      "  FutureWarning)\n",
      "//anaconda3/lib/python3.7/site-packages/sklearn/linear_model/logistic.py:432: FutureWarning: Default solver will be changed to 'lbfgs' in 0.22. Specify a solver to silence this warning.\n",
      "  FutureWarning)\n",
      "//anaconda3/lib/python3.7/site-packages/sklearn/linear_model/logistic.py:432: FutureWarning: Default solver will be changed to 'lbfgs' in 0.22. Specify a solver to silence this warning.\n",
      "  FutureWarning)\n",
      "//anaconda3/lib/python3.7/site-packages/sklearn/linear_model/logistic.py:432: FutureWarning: Default solver will be changed to 'lbfgs' in 0.22. Specify a solver to silence this warning.\n",
      "  FutureWarning)\n",
      "//anaconda3/lib/python3.7/site-packages/sklearn/linear_model/logistic.py:432: FutureWarning: Default solver will be changed to 'lbfgs' in 0.22. Specify a solver to silence this warning.\n",
      "  FutureWarning)\n",
      "//anaconda3/lib/python3.7/site-packages/sklearn/linear_model/logistic.py:432: FutureWarning: Default solver will be changed to 'lbfgs' in 0.22. Specify a solver to silence this warning.\n",
      "  FutureWarning)\n",
      "//anaconda3/lib/python3.7/site-packages/sklearn/linear_model/logistic.py:432: FutureWarning: Default solver will be changed to 'lbfgs' in 0.22. Specify a solver to silence this warning.\n",
      "  FutureWarning)\n",
      "//anaconda3/lib/python3.7/site-packages/sklearn/linear_model/logistic.py:432: FutureWarning: Default solver will be changed to 'lbfgs' in 0.22. Specify a solver to silence this warning.\n",
      "  FutureWarning)\n",
      "//anaconda3/lib/python3.7/site-packages/sklearn/linear_model/logistic.py:432: FutureWarning: Default solver will be changed to 'lbfgs' in 0.22. Specify a solver to silence this warning.\n",
      "  FutureWarning)\n",
      "//anaconda3/lib/python3.7/site-packages/sklearn/linear_model/logistic.py:432: FutureWarning: Default solver will be changed to 'lbfgs' in 0.22. Specify a solver to silence this warning.\n",
      "  FutureWarning)\n",
      "//anaconda3/lib/python3.7/site-packages/sklearn/linear_model/logistic.py:432: FutureWarning: Default solver will be changed to 'lbfgs' in 0.22. Specify a solver to silence this warning.\n",
      "  FutureWarning)\n",
      "//anaconda3/lib/python3.7/site-packages/sklearn/linear_model/logistic.py:432: FutureWarning: Default solver will be changed to 'lbfgs' in 0.22. Specify a solver to silence this warning.\n",
      "  FutureWarning)\n",
      "//anaconda3/lib/python3.7/site-packages/sklearn/linear_model/logistic.py:432: FutureWarning: Default solver will be changed to 'lbfgs' in 0.22. Specify a solver to silence this warning.\n",
      "  FutureWarning)\n",
      "//anaconda3/lib/python3.7/site-packages/sklearn/linear_model/logistic.py:432: FutureWarning: Default solver will be changed to 'lbfgs' in 0.22. Specify a solver to silence this warning.\n",
      "  FutureWarning)\n"
     ]
    },
    {
     "name": "stdout",
     "output_type": "stream",
     "text": [
      "[CV] ............................... C=100, score=0.809, total=   0.0s\n",
      "[CV] C=100 ...........................................................\n",
      "[CV] ............................... C=100, score=0.831, total=   0.0s\n",
      "[CV] C=100 ...........................................................\n",
      "[CV] ............................... C=100, score=0.828, total=   0.0s\n",
      "[CV] C=1000 ..........................................................\n",
      "[CV] .............................. C=1000, score=0.815, total=   0.0s\n",
      "[CV] C=1000 ..........................................................\n",
      "[CV] .............................. C=1000, score=0.855, total=   0.0s\n",
      "[CV] C=1000 ..........................................................\n",
      "[CV] .............................. C=1000, score=0.835, total=   0.0s\n",
      "[CV] C=10000 .........................................................\n",
      "[CV] ............................. C=10000, score=0.804, total=   0.0s\n",
      "[CV] C=10000 .........................................................\n",
      "[CV] ............................. C=10000, score=0.846, total=   0.0s\n",
      "[CV] C=10000 .........................................................\n",
      "[CV] ............................. C=10000, score=0.824, total=   0.0s\n"
     ]
    },
    {
     "name": "stderr",
     "output_type": "stream",
     "text": [
      "//anaconda3/lib/python3.7/site-packages/sklearn/linear_model/logistic.py:432: FutureWarning: Default solver will be changed to 'lbfgs' in 0.22. Specify a solver to silence this warning.\n",
      "  FutureWarning)\n",
      "//anaconda3/lib/python3.7/site-packages/sklearn/linear_model/logistic.py:432: FutureWarning: Default solver will be changed to 'lbfgs' in 0.22. Specify a solver to silence this warning.\n",
      "  FutureWarning)\n",
      "//anaconda3/lib/python3.7/site-packages/sklearn/linear_model/logistic.py:432: FutureWarning: Default solver will be changed to 'lbfgs' in 0.22. Specify a solver to silence this warning.\n",
      "  FutureWarning)\n",
      "//anaconda3/lib/python3.7/site-packages/sklearn/linear_model/logistic.py:432: FutureWarning: Default solver will be changed to 'lbfgs' in 0.22. Specify a solver to silence this warning.\n",
      "  FutureWarning)\n",
      "//anaconda3/lib/python3.7/site-packages/sklearn/linear_model/logistic.py:432: FutureWarning: Default solver will be changed to 'lbfgs' in 0.22. Specify a solver to silence this warning.\n",
      "  FutureWarning)\n",
      "//anaconda3/lib/python3.7/site-packages/sklearn/linear_model/logistic.py:432: FutureWarning: Default solver will be changed to 'lbfgs' in 0.22. Specify a solver to silence this warning.\n",
      "  FutureWarning)\n",
      "//anaconda3/lib/python3.7/site-packages/sklearn/linear_model/logistic.py:432: FutureWarning: Default solver will be changed to 'lbfgs' in 0.22. Specify a solver to silence this warning.\n",
      "  FutureWarning)\n",
      "//anaconda3/lib/python3.7/site-packages/sklearn/linear_model/logistic.py:432: FutureWarning: Default solver will be changed to 'lbfgs' in 0.22. Specify a solver to silence this warning.\n",
      "  FutureWarning)\n",
      "[Parallel(n_jobs=1)]: Done  30 out of  30 | elapsed:    0.4s finished\n",
      "//anaconda3/lib/python3.7/site-packages/sklearn/linear_model/logistic.py:432: FutureWarning: Default solver will be changed to 'lbfgs' in 0.22. Specify a solver to silence this warning.\n",
      "  FutureWarning)\n"
     ]
    }
   ],
   "source": [
    "clf_lr = LogisticRegression(penalty= 'l2')\n",
    "c_list = [0.00001, 0.0001, 0.001, 0.01, 0.1, 1, 10, 100, 1000, 10000]\n",
    "parameters = {'C' : c_list}\n",
    "gs_cv_lr = GridSearchCV(clf_lr, parameters, cv = 3, scoring='f1', verbose=3)\n",
    "gs_cv_lr.fit(X_train, y_train)\n",
    "clf_lr = gs_cv_lr.best_estimator_"
   ]
  },
  {
   "cell_type": "code",
   "execution_count": 5,
   "metadata": {},
   "outputs": [
    {
     "name": "stdout",
     "output_type": "stream",
     "text": [
      "0.8351648351648352 LogisticRegression(C=1000, class_weight=None, dual=False, fit_intercept=True,\n",
      "                   intercept_scaling=1, l1_ratio=None, max_iter=100,\n",
      "                   multi_class='warn', n_jobs=None, penalty='l2',\n",
      "                   random_state=None, solver='warn', tol=0.0001, verbose=0,\n",
      "                   warm_start=False)\n"
     ]
    },
    {
     "name": "stderr",
     "output_type": "stream",
     "text": [
      "//anaconda3/lib/python3.7/site-packages/sklearn/linear_model/logistic.py:432: FutureWarning: Default solver will be changed to 'lbfgs' in 0.22. Specify a solver to silence this warning.\n",
      "  FutureWarning)\n"
     ]
    }
   ],
   "source": [
    "clf_lr.fit(X_train, y_train)\n",
    "y_pred_lr = clf_lr.predict(X_test)\n",
    "print(f1_score(y_test, y_pred_lr), clf_lr)"
   ]
  },
  {
   "cell_type": "code",
   "execution_count": 54,
   "metadata": {},
   "outputs": [
    {
     "name": "stdout",
     "output_type": "stream",
     "text": [
      "Fitting 3 folds for each of 10 candidates, totalling 30 fits\n",
      "[CV] alpha=1e-05 .....................................................\n",
      "[CV] ......................... alpha=1e-05, score=0.411, total=   0.0s\n",
      "[CV] alpha=1e-05 .....................................................\n",
      "[CV] ......................... alpha=1e-05, score=0.699, total=   0.0s\n",
      "[CV] alpha=1e-05 .....................................................\n",
      "[CV] ......................... alpha=1e-05, score=0.500, total=   0.0s\n",
      "[CV] alpha=0.0001 ....................................................\n",
      "[CV] ........................ alpha=0.0001, score=0.813, total=   0.0s\n",
      "[CV] alpha=0.0001 ....................................................\n",
      "[CV] ........................ alpha=0.0001, score=0.828, total=   0.0s\n",
      "[CV] alpha=0.0001 ....................................................\n",
      "[CV] ........................ alpha=0.0001, score=0.508, total=   0.0s\n",
      "[CV] alpha=0.001 .....................................................\n",
      "[CV] ......................... alpha=0.001, score=0.336, total=   0.0s\n",
      "[CV] alpha=0.001 .....................................................\n",
      "[CV] ......................... alpha=0.001, score=0.695, total=   0.0s\n",
      "[CV] alpha=0.001 .....................................................\n",
      "[CV] ......................... alpha=0.001, score=0.504, total=   0.0s\n",
      "[CV] alpha=0.01 ......................................................\n",
      "[CV] .......................... alpha=0.01, score=0.492, total=   0.0s\n",
      "[CV] alpha=0.01 ......................................................\n",
      "[CV] .......................... alpha=0.01, score=0.707, total=   0.0s\n",
      "[CV] alpha=0.01 ......................................................\n",
      "[CV] .......................... alpha=0.01, score=0.538, total=   0.0s\n",
      "[CV] alpha=0.1 .......................................................\n",
      "[CV] ........................... alpha=0.1, score=0.671, total=   0.0s\n",
      "[CV] alpha=0.1 .......................................................\n",
      "[CV] ........................... alpha=0.1, score=0.721, total=   0.0s\n",
      "[CV] alpha=0.1 .......................................................\n",
      "[CV] ........................... alpha=0.1, score=0.508, total=   0.0s\n",
      "[CV] alpha=1 .........................................................\n",
      "[CV] ............................. alpha=1, score=0.571, total=   0.0s\n",
      "[CV] alpha=1 .........................................................\n",
      "[CV] ............................. alpha=1, score=0.716, total=   0.0s\n",
      "[CV] alpha=1 .........................................................\n",
      "[CV] ............................. alpha=1, score=0.484, total=   0.0s\n",
      "[CV] alpha=10 ........................................................\n",
      "[CV] ............................ alpha=10, score=0.527, total=   0.0s\n",
      "[CV] alpha=10 ........................................................\n",
      "[CV] ............................ alpha=10, score=0.843, total=   0.0s\n",
      "[CV] alpha=10 ........................................................\n",
      "[CV] ............................ alpha=10, score=0.844, total=   0.0s\n",
      "[CV] alpha=100 .......................................................\n",
      "[CV] ........................... alpha=100, score=0.527, total=   0.0s\n",
      "[CV] alpha=100 .......................................................\n",
      "[CV] ........................... alpha=100, score=0.769, total=   0.0s\n",
      "[CV] alpha=100 .......................................................\n",
      "[CV] ........................... alpha=100, score=0.527, total=   0.0s\n",
      "[CV] alpha=1000 ......................................................\n",
      "[CV] .......................... alpha=1000, score=0.604, total=   0.0s\n",
      "[CV] alpha=1000 ......................................................\n",
      "[CV] .......................... alpha=1000, score=0.694, total=   0.0s\n",
      "[CV] alpha=1000 ......................................................\n",
      "[CV] .......................... alpha=1000, score=0.725, total=   0.0s\n",
      "[CV] alpha=10000 .....................................................\n",
      "[CV] ......................... alpha=10000, score=0.739, total=   0.0s\n",
      "[CV] alpha=10000 .....................................................\n",
      "[CV] ......................... alpha=10000, score=0.798, total=   0.0s\n",
      "[CV] alpha=10000 .....................................................\n",
      "[CV] ......................... alpha=10000, score=0.767, total=   0.0s\n"
     ]
    },
    {
     "name": "stderr",
     "output_type": "stream",
     "text": [
      "[Parallel(n_jobs=1)]: Using backend SequentialBackend with 1 concurrent workers.\n",
      "[Parallel(n_jobs=1)]: Done   1 out of   1 | elapsed:    0.0s remaining:    0.0s\n",
      "[Parallel(n_jobs=1)]: Done   2 out of   2 | elapsed:    0.0s remaining:    0.0s\n",
      "[Parallel(n_jobs=1)]: Done  30 out of  30 | elapsed:    0.2s finished\n",
      "/Users/abhinivesh/anaconda3/lib/python3.6/site-packages/sklearn/model_selection/_search.py:814: DeprecationWarning: The default of the `iid` parameter will change from True to False in version 0.22 and will be removed in 0.24. This will change numeric results when test-set sizes are unequal.\n",
      "  DeprecationWarning)\n"
     ]
    }
   ],
   "source": [
    "clf_svm = SGDClassifier(loss= 'hinge', penalty='l2')\n",
    "alpha_list = [0.00001, 0.0001, 0.001, 0.01, 0.1, 1, 10, 100, 1000, 10000]\n",
    "parameters = {'alpha' : alpha_list}\n",
    "gs_cv_svm = GridSearchCV(clf_svm, parameters, cv = 3, scoring='f1', verbose=3)\n",
    "gs_cv_svm.fit(X_train, y_train)\n",
    "clf_svm = gs_cv_svm.best_estimator_"
   ]
  },
  {
   "cell_type": "code",
   "execution_count": 55,
   "metadata": {},
   "outputs": [
    {
     "name": "stdout",
     "output_type": "stream",
     "text": [
      "0.6233766233766234 SGDClassifier(alpha=10000, average=False, class_weight=None,\n",
      "              early_stopping=False, epsilon=0.1, eta0=0.0, fit_intercept=True,\n",
      "              l1_ratio=0.15, learning_rate='optimal', loss='hinge',\n",
      "              max_iter=1000, n_iter_no_change=5, n_jobs=None, penalty='l2',\n",
      "              power_t=0.5, random_state=None, shuffle=True, tol=0.001,\n",
      "              validation_fraction=0.1, verbose=0, warm_start=False)\n"
     ]
    }
   ],
   "source": [
    "clf_svm.fit(X_train, y_train)\n",
    "y_pred_svm = clf_svm.predict(X_test)\n",
    "print(f1_score(y_test, y_pred_svm), clf_svm)"
   ]
  },
  {
   "cell_type": "code",
   "execution_count": 56,
   "metadata": {},
   "outputs": [
    {
     "name": "stdout",
     "output_type": "stream",
     "text": [
      "Fitting 3 folds for each of 28 candidates, totalling 84 fits\n",
      "[CV] max_depth=1, min_samples_split=5 ................................\n",
      "[CV] .... max_depth=1, min_samples_split=5, score=0.841, total=   0.0s\n",
      "[CV] max_depth=1, min_samples_split=5 ................................\n",
      "[CV] .... max_depth=1, min_samples_split=5, score=0.847, total=   0.0s\n",
      "[CV] max_depth=1, min_samples_split=5 ................................\n",
      "[CV] .... max_depth=1, min_samples_split=5, score=0.865, total=   0.0s\n",
      "[CV] max_depth=1, min_samples_split=10 ...............................\n",
      "[CV] ... max_depth=1, min_samples_split=10, score=0.841, total=   0.0s\n",
      "[CV] max_depth=1, min_samples_split=10 ...............................\n",
      "[CV] ... max_depth=1, min_samples_split=10, score=0.847, total=   0.0s\n",
      "[CV] max_depth=1, min_samples_split=10 ...............................\n",
      "[CV] ... max_depth=1, min_samples_split=10, score=0.865, total=   0.0s\n",
      "[CV] max_depth=1, min_samples_split=100 ..............................\n",
      "[CV] .. max_depth=1, min_samples_split=100, score=0.841, total=   0.0s\n",
      "[CV] max_depth=1, min_samples_split=100 ..............................\n",
      "[CV] .. max_depth=1, min_samples_split=100, score=0.847, total=   0.0s\n",
      "[CV] max_depth=1, min_samples_split=100 ..............................\n",
      "[CV] .. max_depth=1, min_samples_split=100, score=0.865, total=   0.0s\n",
      "[CV] max_depth=1, min_samples_split=500 ..............................\n",
      "[CV] .. max_depth=1, min_samples_split=500, score=0.000, total=   0.0s\n",
      "[CV] max_depth=1, min_samples_split=500 ..............................\n",
      "[CV] .. max_depth=1, min_samples_split=500, score=0.000, total=   0.0s\n",
      "[CV] max_depth=1, min_samples_split=500 ..............................\n",
      "[CV] .. max_depth=1, min_samples_split=500, score=0.000, total=   0.0s\n",
      "[CV] max_depth=5, min_samples_split=5 ................................\n",
      "[CV] .... max_depth=5, min_samples_split=5, score=0.870, total=   0.0s\n",
      "[CV] max_depth=5, min_samples_split=5 ................................\n",
      "[CV] .... max_depth=5, min_samples_split=5, score=0.857, total=   0.0s\n",
      "[CV] max_depth=5, min_samples_split=5 ................................\n",
      "[CV] .... max_depth=5, min_samples_split=5, score=0.901, total=   0.0s\n",
      "[CV] max_depth=5, min_samples_split=10 ...............................\n",
      "[CV] ... max_depth=5, min_samples_split=10, score=0.870, total=   0.0s\n",
      "[CV] max_depth=5, min_samples_split=10 ...............................\n",
      "[CV] ... max_depth=5, min_samples_split=10, score=0.862, total=   0.0s\n",
      "[CV] max_depth=5, min_samples_split=10 ...............................\n",
      "[CV] ... max_depth=5, min_samples_split=10, score=0.901, total=   0.0s\n",
      "[CV] max_depth=5, min_samples_split=100 ..............................\n",
      "[CV] .. max_depth=5, min_samples_split=100, score=0.877, total=   0.0s\n",
      "[CV] max_depth=5, min_samples_split=100 ..............................\n",
      "[CV] .. max_depth=5, min_samples_split=100, score=0.885, total=   0.0s\n",
      "[CV] max_depth=5, min_samples_split=100 ..............................\n",
      "[CV] .. max_depth=5, min_samples_split=100, score=0.886, total=   0.0s\n",
      "[CV] max_depth=5, min_samples_split=500 ..............................\n",
      "[CV] .. max_depth=5, min_samples_split=500, score=0.000, total=   0.0s\n",
      "[CV] max_depth=5, min_samples_split=500 ..............................\n",
      "[CV] .. max_depth=5, min_samples_split=500, score=0.000, total=   0.0s\n",
      "[CV] max_depth=5, min_samples_split=500 ..............................\n",
      "[CV] .. max_depth=5, min_samples_split=500, score=0.000, total=   0.0s\n",
      "[CV] max_depth=10, min_samples_split=5 ...............................\n",
      "[CV] ... max_depth=10, min_samples_split=5, score=0.873, total=   0.0s\n",
      "[CV] max_depth=10, min_samples_split=5 ...............................\n",
      "[CV] ... max_depth=10, min_samples_split=5, score=0.842, total=   0.0s\n",
      "[CV] max_depth=10, min_samples_split=5 ...............................\n",
      "[CV] ... max_depth=10, min_samples_split=5, score=0.865, total=   0.0s\n",
      "[CV] max_depth=10, min_samples_split=10 ..............................\n",
      "[CV] .. max_depth=10, min_samples_split=10, score=0.870, total=   0.0s\n",
      "[CV] max_depth=10, min_samples_split=10 ..............................\n",
      "[CV] .. max_depth=10, min_samples_split=10, score=0.862, total=   0.0s\n",
      "[CV] max_depth=10, min_samples_split=10 ..............................\n",
      "[CV] .. max_depth=10, min_samples_split=10, score=0.865, total=   0.0s\n",
      "[CV] max_depth=10, min_samples_split=100 .............................\n",
      "[CV] . max_depth=10, min_samples_split=100, score=0.877, total=   0.0s\n",
      "[CV] max_depth=10, min_samples_split=100 .............................\n",
      "[CV] . max_depth=10, min_samples_split=100, score=0.885, total=   0.0s\n",
      "[CV] max_depth=10, min_samples_split=100 .............................\n",
      "[CV] . max_depth=10, min_samples_split=100, score=0.886, total=   0.0s\n",
      "[CV] max_depth=10, min_samples_split=500 .............................\n",
      "[CV] . max_depth=10, min_samples_split=500, score=0.000, total=   0.0s\n",
      "[CV] max_depth=10, min_samples_split=500 .............................\n",
      "[CV] . max_depth=10, min_samples_split=500, score=0.000, total=   0.0s\n",
      "[CV] max_depth=10, min_samples_split=500 .............................\n",
      "[CV] . max_depth=10, min_samples_split=500, score=0.000, total=   0.0s\n",
      "[CV] max_depth=50, min_samples_split=5 ...............................\n",
      "[CV] ... max_depth=50, min_samples_split=5, score=0.855, total=   0.0s\n",
      "[CV] max_depth=50, min_samples_split=5 ...............................\n",
      "[CV] ... max_depth=50, min_samples_split=5, score=0.819, total=   0.0s\n",
      "[CV] max_depth=50, min_samples_split=5 ...............................\n",
      "[CV] ... max_depth=50, min_samples_split=5, score=0.872, total=   0.0s\n",
      "[CV] max_depth=50, min_samples_split=10 ..............................\n",
      "[CV] .. max_depth=50, min_samples_split=10, score=0.852, total=   0.0s\n",
      "[CV] max_depth=50, min_samples_split=10 ..............................\n",
      "[CV] .. max_depth=50, min_samples_split=10, score=0.848, total=   0.0s\n",
      "[CV] max_depth=50, min_samples_split=10 ..............................\n"
     ]
    },
    {
     "name": "stderr",
     "output_type": "stream",
     "text": [
      "[Parallel(n_jobs=1)]: Using backend SequentialBackend with 1 concurrent workers.\n",
      "[Parallel(n_jobs=1)]: Done   1 out of   1 | elapsed:    0.0s remaining:    0.0s\n",
      "[Parallel(n_jobs=1)]: Done   2 out of   2 | elapsed:    0.0s remaining:    0.0s\n",
      "/Users/abhinivesh/anaconda3/lib/python3.6/site-packages/sklearn/metrics/classification.py:1437: UndefinedMetricWarning: F-score is ill-defined and being set to 0.0 due to no predicted samples.\n",
      "  'precision', 'predicted', average, warn_for)\n",
      "/Users/abhinivesh/anaconda3/lib/python3.6/site-packages/sklearn/metrics/classification.py:1437: UndefinedMetricWarning: F-score is ill-defined and being set to 0.0 due to no predicted samples.\n",
      "  'precision', 'predicted', average, warn_for)\n",
      "/Users/abhinivesh/anaconda3/lib/python3.6/site-packages/sklearn/metrics/classification.py:1437: UndefinedMetricWarning: F-score is ill-defined and being set to 0.0 due to no predicted samples.\n",
      "  'precision', 'predicted', average, warn_for)\n",
      "/Users/abhinivesh/anaconda3/lib/python3.6/site-packages/sklearn/metrics/classification.py:1437: UndefinedMetricWarning: F-score is ill-defined and being set to 0.0 due to no predicted samples.\n",
      "  'precision', 'predicted', average, warn_for)\n",
      "/Users/abhinivesh/anaconda3/lib/python3.6/site-packages/sklearn/metrics/classification.py:1437: UndefinedMetricWarning: F-score is ill-defined and being set to 0.0 due to no predicted samples.\n",
      "  'precision', 'predicted', average, warn_for)\n",
      "/Users/abhinivesh/anaconda3/lib/python3.6/site-packages/sklearn/metrics/classification.py:1437: UndefinedMetricWarning: F-score is ill-defined and being set to 0.0 due to no predicted samples.\n",
      "  'precision', 'predicted', average, warn_for)\n",
      "/Users/abhinivesh/anaconda3/lib/python3.6/site-packages/sklearn/metrics/classification.py:1437: UndefinedMetricWarning: F-score is ill-defined and being set to 0.0 due to no predicted samples.\n",
      "  'precision', 'predicted', average, warn_for)\n",
      "/Users/abhinivesh/anaconda3/lib/python3.6/site-packages/sklearn/metrics/classification.py:1437: UndefinedMetricWarning: F-score is ill-defined and being set to 0.0 due to no predicted samples.\n",
      "  'precision', 'predicted', average, warn_for)\n",
      "/Users/abhinivesh/anaconda3/lib/python3.6/site-packages/sklearn/metrics/classification.py:1437: UndefinedMetricWarning: F-score is ill-defined and being set to 0.0 due to no predicted samples.\n",
      "  'precision', 'predicted', average, warn_for)\n"
     ]
    },
    {
     "name": "stdout",
     "output_type": "stream",
     "text": [
      "[CV] .. max_depth=50, min_samples_split=10, score=0.865, total=   0.0s\n",
      "[CV] max_depth=50, min_samples_split=100 .............................\n",
      "[CV] . max_depth=50, min_samples_split=100, score=0.877, total=   0.0s\n",
      "[CV] max_depth=50, min_samples_split=100 .............................\n",
      "[CV] . max_depth=50, min_samples_split=100, score=0.885, total=   0.0s\n",
      "[CV] max_depth=50, min_samples_split=100 .............................\n",
      "[CV] . max_depth=50, min_samples_split=100, score=0.886, total=   0.0s\n",
      "[CV] max_depth=50, min_samples_split=500 .............................\n",
      "[CV] . max_depth=50, min_samples_split=500, score=0.000, total=   0.0s\n",
      "[CV] max_depth=50, min_samples_split=500 .............................\n",
      "[CV] . max_depth=50, min_samples_split=500, score=0.000, total=   0.0s\n",
      "[CV] max_depth=50, min_samples_split=500 .............................\n",
      "[CV] . max_depth=50, min_samples_split=500, score=0.000, total=   0.0s\n",
      "[CV] max_depth=100, min_samples_split=5 ..............................\n",
      "[CV] .. max_depth=100, min_samples_split=5, score=0.830, total=   0.0s\n",
      "[CV] max_depth=100, min_samples_split=5 ..............................\n",
      "[CV] .. max_depth=100, min_samples_split=5, score=0.821, total=   0.0s\n",
      "[CV] max_depth=100, min_samples_split=5 ..............................\n",
      "[CV] .. max_depth=100, min_samples_split=5, score=0.865, total=   0.0s\n",
      "[CV] max_depth=100, min_samples_split=10 .............................\n",
      "[CV] . max_depth=100, min_samples_split=10, score=0.846, total=   0.0s\n",
      "[CV] max_depth=100, min_samples_split=10 .............................\n",
      "[CV] . max_depth=100, min_samples_split=10, score=0.841, total=   0.0s\n",
      "[CV] max_depth=100, min_samples_split=10 .............................\n",
      "[CV] . max_depth=100, min_samples_split=10, score=0.865, total=   0.0s\n",
      "[CV] max_depth=100, min_samples_split=100 ............................\n",
      "[CV]  max_depth=100, min_samples_split=100, score=0.877, total=   0.0s\n",
      "[CV] max_depth=100, min_samples_split=100 ............................\n",
      "[CV]  max_depth=100, min_samples_split=100, score=0.885, total=   0.0s\n",
      "[CV] max_depth=100, min_samples_split=100 ............................\n",
      "[CV]  max_depth=100, min_samples_split=100, score=0.886, total=   0.0s\n",
      "[CV] max_depth=100, min_samples_split=500 ............................\n",
      "[CV]  max_depth=100, min_samples_split=500, score=0.000, total=   0.0s\n",
      "[CV] max_depth=100, min_samples_split=500 ............................\n",
      "[CV]  max_depth=100, min_samples_split=500, score=0.000, total=   0.0s\n",
      "[CV] max_depth=100, min_samples_split=500 ............................\n",
      "[CV]  max_depth=100, min_samples_split=500, score=0.000, total=   0.0s\n",
      "[CV] max_depth=500, min_samples_split=5 ..............................\n",
      "[CV] .. max_depth=500, min_samples_split=5, score=0.855, total=   0.0s\n",
      "[CV] max_depth=500, min_samples_split=5 ..............................\n",
      "[CV] .. max_depth=500, min_samples_split=5, score=0.819, total=   0.0s\n",
      "[CV] max_depth=500, min_samples_split=5 ..............................\n",
      "[CV] .. max_depth=500, min_samples_split=5, score=0.872, total=   0.0s\n",
      "[CV] max_depth=500, min_samples_split=10 .............................\n",
      "[CV] . max_depth=500, min_samples_split=10, score=0.852, total=   0.0s\n",
      "[CV] max_depth=500, min_samples_split=10 .............................\n",
      "[CV] . max_depth=500, min_samples_split=10, score=0.847, total=   0.0s\n",
      "[CV] max_depth=500, min_samples_split=10 .............................\n",
      "[CV] . max_depth=500, min_samples_split=10, score=0.863, total=   0.0s\n",
      "[CV] max_depth=500, min_samples_split=100 ............................\n",
      "[CV]  max_depth=500, min_samples_split=100, score=0.877, total=   0.0s\n",
      "[CV] max_depth=500, min_samples_split=100 ............................\n",
      "[CV]  max_depth=500, min_samples_split=100, score=0.885, total=   0.0s\n",
      "[CV] max_depth=500, min_samples_split=100 ............................\n",
      "[CV]  max_depth=500, min_samples_split=100, score=0.886, total=   0.0s\n",
      "[CV] max_depth=500, min_samples_split=500 ............................\n",
      "[CV]  max_depth=500, min_samples_split=500, score=0.000, total=   0.0s\n",
      "[CV] max_depth=500, min_samples_split=500 ............................\n",
      "[CV]  max_depth=500, min_samples_split=500, score=0.000, total=   0.0s\n",
      "[CV] max_depth=500, min_samples_split=500 ............................\n",
      "[CV]  max_depth=500, min_samples_split=500, score=0.000, total=   0.0s\n",
      "[CV] max_depth=1000, min_samples_split=5 .............................\n",
      "[CV] . max_depth=1000, min_samples_split=5, score=0.843, total=   0.0s\n",
      "[CV] max_depth=1000, min_samples_split=5 .............................\n",
      "[CV] . max_depth=1000, min_samples_split=5, score=0.817, total=   0.0s\n",
      "[CV] max_depth=1000, min_samples_split=5 .............................\n",
      "[CV] . max_depth=1000, min_samples_split=5, score=0.872, total=   0.0s\n",
      "[CV] max_depth=1000, min_samples_split=10 ............................\n",
      "[CV]  max_depth=1000, min_samples_split=10, score=0.852, total=   0.0s\n",
      "[CV] max_depth=1000, min_samples_split=10 ............................\n",
      "[CV]  max_depth=1000, min_samples_split=10, score=0.847, total=   0.0s\n",
      "[CV] max_depth=1000, min_samples_split=10 ............................\n",
      "[CV]  max_depth=1000, min_samples_split=10, score=0.861, total=   0.0s\n",
      "[CV] max_depth=1000, min_samples_split=100 ...........................\n",
      "[CV]  max_depth=1000, min_samples_split=100, score=0.877, total=   0.0s\n",
      "[CV] max_depth=1000, min_samples_split=100 ...........................\n",
      "[CV]  max_depth=1000, min_samples_split=100, score=0.885, total=   0.0s\n",
      "[CV] max_depth=1000, min_samples_split=100 ...........................\n",
      "[CV]  max_depth=1000, min_samples_split=100, score=0.886, total=   0.0s\n",
      "[CV] max_depth=1000, min_samples_split=500 ...........................\n",
      "[CV]  max_depth=1000, min_samples_split=500, score=0.000, total=   0.0s\n",
      "[CV] max_depth=1000, min_samples_split=500 ...........................\n",
      "[CV]  max_depth=1000, min_samples_split=500, score=0.000, total=   0.0s\n",
      "[CV] max_depth=1000, min_samples_split=500 ...........................\n",
      "[CV]  max_depth=1000, min_samples_split=500, score=0.000, total=   0.0s\n"
     ]
    },
    {
     "name": "stderr",
     "output_type": "stream",
     "text": [
      "/Users/abhinivesh/anaconda3/lib/python3.6/site-packages/sklearn/metrics/classification.py:1437: UndefinedMetricWarning: F-score is ill-defined and being set to 0.0 due to no predicted samples.\n",
      "  'precision', 'predicted', average, warn_for)\n",
      "/Users/abhinivesh/anaconda3/lib/python3.6/site-packages/sklearn/metrics/classification.py:1437: UndefinedMetricWarning: F-score is ill-defined and being set to 0.0 due to no predicted samples.\n",
      "  'precision', 'predicted', average, warn_for)\n",
      "/Users/abhinivesh/anaconda3/lib/python3.6/site-packages/sklearn/metrics/classification.py:1437: UndefinedMetricWarning: F-score is ill-defined and being set to 0.0 due to no predicted samples.\n",
      "  'precision', 'predicted', average, warn_for)\n",
      "/Users/abhinivesh/anaconda3/lib/python3.6/site-packages/sklearn/metrics/classification.py:1437: UndefinedMetricWarning: F-score is ill-defined and being set to 0.0 due to no predicted samples.\n",
      "  'precision', 'predicted', average, warn_for)\n",
      "/Users/abhinivesh/anaconda3/lib/python3.6/site-packages/sklearn/metrics/classification.py:1437: UndefinedMetricWarning: F-score is ill-defined and being set to 0.0 due to no predicted samples.\n",
      "  'precision', 'predicted', average, warn_for)\n",
      "/Users/abhinivesh/anaconda3/lib/python3.6/site-packages/sklearn/metrics/classification.py:1437: UndefinedMetricWarning: F-score is ill-defined and being set to 0.0 due to no predicted samples.\n",
      "  'precision', 'predicted', average, warn_for)\n",
      "/Users/abhinivesh/anaconda3/lib/python3.6/site-packages/sklearn/metrics/classification.py:1437: UndefinedMetricWarning: F-score is ill-defined and being set to 0.0 due to no predicted samples.\n",
      "  'precision', 'predicted', average, warn_for)\n",
      "/Users/abhinivesh/anaconda3/lib/python3.6/site-packages/sklearn/metrics/classification.py:1437: UndefinedMetricWarning: F-score is ill-defined and being set to 0.0 due to no predicted samples.\n",
      "  'precision', 'predicted', average, warn_for)\n",
      "/Users/abhinivesh/anaconda3/lib/python3.6/site-packages/sklearn/metrics/classification.py:1437: UndefinedMetricWarning: F-score is ill-defined and being set to 0.0 due to no predicted samples.\n",
      "  'precision', 'predicted', average, warn_for)\n",
      "/Users/abhinivesh/anaconda3/lib/python3.6/site-packages/sklearn/metrics/classification.py:1437: UndefinedMetricWarning: F-score is ill-defined and being set to 0.0 due to no predicted samples.\n",
      "  'precision', 'predicted', average, warn_for)\n",
      "/Users/abhinivesh/anaconda3/lib/python3.6/site-packages/sklearn/metrics/classification.py:1437: UndefinedMetricWarning: F-score is ill-defined and being set to 0.0 due to no predicted samples.\n",
      "  'precision', 'predicted', average, warn_for)\n",
      "/Users/abhinivesh/anaconda3/lib/python3.6/site-packages/sklearn/metrics/classification.py:1437: UndefinedMetricWarning: F-score is ill-defined and being set to 0.0 due to no predicted samples.\n",
      "  'precision', 'predicted', average, warn_for)\n",
      "[Parallel(n_jobs=1)]: Done  84 out of  84 | elapsed:    0.4s finished\n"
     ]
    }
   ],
   "source": [
    "clf_dt = DecisionTreeClassifier()\n",
    "max_depth_list = [1, 5, 10, 50, 100, 500, 1000]\n",
    "min_samples_split_list = [5, 10, 100, 500]\n",
    "parameters = {'max_depth': max_depth_list, 'min_samples_split': min_samples_split_list}\n",
    "gs_cv_dt = GridSearchCV(clf_dt, parameters, cv = 3, scoring='f1', verbose=3)\n",
    "gs_cv_dt.fit(X_train, y_train)\n",
    "clf_dt = gs_cv_dt.best_estimator_"
   ]
  },
  {
   "cell_type": "code",
   "execution_count": 57,
   "metadata": {},
   "outputs": [
    {
     "name": "stdout",
     "output_type": "stream",
     "text": [
      "0.8148148148148149 DecisionTreeClassifier(class_weight=None, criterion='gini', max_depth=5,\n",
      "                       max_features=None, max_leaf_nodes=None,\n",
      "                       min_impurity_decrease=0.0, min_impurity_split=None,\n",
      "                       min_samples_leaf=1, min_samples_split=100,\n",
      "                       min_weight_fraction_leaf=0.0, presort=False,\n",
      "                       random_state=None, splitter='best')\n"
     ]
    }
   ],
   "source": [
    "clf_dt.fit(X_train, y_train)\n",
    "y_pred_dt = clf_dt.predict(X_test)\n",
    "print(f1_score(y_test, y_pred_dt), clf_dt)"
   ]
  },
  {
   "cell_type": "code",
   "execution_count": 68,
   "metadata": {},
   "outputs": [
    {
     "data": {
      "text/plain": [
       "True"
      ]
     },
     "execution_count": 68,
     "metadata": {},
     "output_type": "execute_result"
    }
   ],
   "source": [
    "df = pd.read_csv('All_Accounts.csv')\n",
    "df = df.drop(columns = ['accountName', 'label'])\n",
    "dot_data = export_graphviz(clf_dt, out_file= None, feature_names= list(df.columns), filled= True)\n",
    "graph = pydotplus.graph_from_dot_data(dot_data)\n",
    "graph.write_png('DecisionTreeVisualization.png')"
   ]
  },
  {
   "cell_type": "code",
   "execution_count": 58,
   "metadata": {},
   "outputs": [
    {
     "name": "stdout",
     "output_type": "stream",
     "text": [
      "+---------------------+--------------------------------------+-------------------------+\n",
      "|      Classifier     |         Best Hyperparameter          | f1-score on Unseen Data |\n",
      "+---------------------+--------------------------------------+-------------------------+\n",
      "|         kNN         |                 k= 9                 |           0.84          |\n",
      "|     Naive Bayes     |            alpha= 0.00001            |           0.71          |\n",
      "| Logistic Regression |       C= 1000, L2 Regularizer        |           0.83          |\n",
      "|      Linear SVM     |     alpha= 10000, L2 Regularizer     |           0.62          |\n",
      "|    Decision Tree    | max_depth= 5, min_samples_split= 100 |           0.81          |\n",
      "+---------------------+--------------------------------------+-------------------------+\n"
     ]
    }
   ],
   "source": [
    "conclusion_table = PrettyTable()\n",
    "conclusion_table.field_names = ['Classifier', 'Best Hyperparameter', 'f1-score on Unseen Data']\n",
    "\n",
    "conclusion_table.add_row(['kNN', 'k= 9', '0.84'])\n",
    "conclusion_table.add_row(['Naive Bayes', 'alpha= 0.00001', '0.71'])\n",
    "conclusion_table.add_row(['Logistic Regression', 'C= 1000, L2 Regularizer', '0.83'])\n",
    "conclusion_table.add_row(['Linear SVM', 'alpha= 10000, L2 Regularizer', '0.62'])\n",
    "conclusion_table.add_row(['Decision Tree', 'max_depth= 5, min_samples_split= 100', '0.81'])\n",
    "\n",
    "print(conclusion_table)"
   ]
  },
  {
   "cell_type": "code",
   "execution_count": 10,
   "metadata": {},
   "outputs": [
    {
     "data": {
      "image/png": "[encoded data removed]",
      "text/plain": [
       "<Figure size 432x288 with 2 Axes>"
      ]
     },
     "metadata": {
      "needs_background": "light"
     },
     "output_type": "display_data"
    },
    {
     "data": {
      "text/plain": [
       "<Figure size 432x288 with 0 Axes>"
      ]
     },
     "metadata": {},
     "output_type": "display_data"
    }
   ],
   "source": [
    "from Tools.plotting import plot_train_test_cm\n",
    "import pickle\n",
    "pred_train = clf_lr.predict(X_train)\n",
    "plot_train_test_cm(Y_train=pred_train,  T_train=y_train, Y_test=y_pred_lr, T_test=y_test, savepath='Data/LRresults.png')\n",
    "pickle.dump((pred_train, y_train.values, y_pred_lr, y_test.values), open('Data/LRresults.p', 'wb') )\n",
    "\n"
   ]
  },
  {
   "cell_type": "code",
   "execution_count": null,
   "metadata": {},
   "outputs": [],
   "source": []
  },
  {
   "cell_type": "code",
   "execution_count": null,
   "metadata": {},
   "outputs": [],
   "source": []
  },
  {
   "cell_type": "code",
   "execution_count": null,
   "metadata": {},
   "outputs": [],
   "source": []
  }
 ],
 "metadata": {
  "kernelspec": {
   "display_name": "Python 3",
   "language": "python",
   "name": "python3"
  },
  "language_info": {
   "codemirror_mode": {
    "name": "ipython",
    "version": 3
   },
   "file_extension": ".py",
   "mimetype": "text/x-python",
   "name": "python",
   "nbconvert_exporter": "python",
   "pygments_lexer": "ipython3",
   "version": "3.6.9"
  }
 },
 "nbformat": 4,
 "nbformat_minor": 2
}
