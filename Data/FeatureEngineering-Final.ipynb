{
 "cells": [
  {
   "cell_type": "code",
   "execution_count": 1,
   "metadata": {},
   "outputs": [
    {
     "name": "stderr",
     "output_type": "stream",
     "text": [
      "/Users/abhinivesh/anaconda3/lib/python3.6/importlib/_bootstrap.py:219: RuntimeWarning: numpy.ufunc size changed, may indicate binary incompatibility. Expected 192 from C header, got 216 from PyObject\n",
      "  return f(*args, **kwds)\n",
      "/Users/abhinivesh/anaconda3/lib/python3.6/importlib/_bootstrap.py:219: RuntimeWarning: numpy.ufunc size changed, may indicate binary incompatibility. Expected 192 from C header, got 216 from PyObject\n",
      "  return f(*args, **kwds)\n"
     ]
    }
   ],
   "source": [
    "import pandas as pd\n",
    "import numpy as np\n",
    "import os\n",
    "from collections import Counter\n",
    "from sklearn.feature_extraction.text import CountVectorizer, TfidfVectorizer"
   ]
  },
  {
   "cell_type": "code",
   "execution_count": 2,
   "metadata": {},
   "outputs": [],
   "source": [
    "# source : https://medium.com/@cristhianboujon/how-to-list-the-most-common-words-from-text-corpus-using-scikit-learn-dad4d0cab41d\n",
    "\n",
    "def get_top_n_words(corpus, n=None):\n",
    "    \"\"\"\n",
    "    List the top n words in a vocabulary according to occurrence in a text corpus.\n",
    "    \"\"\"\n",
    "    vec = CountVectorizer().fit(corpus)\n",
    "    bag_of_words = vec.transform(corpus)\n",
    "    sum_words = bag_of_words.sum(axis=0) \n",
    "    words_freq = [(word, sum_words[0, idx]) for word, idx in     vec.vocabulary_.items()]\n",
    "    words_freq =sorted(words_freq, key = lambda x: x[1], reverse=True)\n",
    "    return words_freq[:n]"
   ]
  },
  {
   "cell_type": "code",
   "execution_count": 3,
   "metadata": {},
   "outputs": [
    {
     "data": {
      "text/html": [
       "<div>\n",
       "<style scoped>\n",
       "    .dataframe tbody tr th:only-of-type {\n",
       "        vertical-align: middle;\n",
       "    }\n",
       "\n",
       "    .dataframe tbody tr th {\n",
       "        vertical-align: top;\n",
       "    }\n",
       "\n",
       "    .dataframe thead th {\n",
       "        text-align: right;\n",
       "    }\n",
       "</style>\n",
       "<table border=\"1\" class=\"dataframe\">\n",
       "  <thead>\n",
       "    <tr style=\"text-align: right;\">\n",
       "      <th></th>\n",
       "      <th>Unnamed: 0</th>\n",
       "      <th>author</th>\n",
       "      <th>created</th>\n",
       "      <th>submissions</th>\n",
       "      <th>comments</th>\n",
       "      <th>daily_downtime</th>\n",
       "    </tr>\n",
       "  </thead>\n",
       "  <tbody>\n",
       "    <tr>\n",
       "      <th>0</th>\n",
       "      <td>0</td>\n",
       "      <td>Ragin33Redhead</td>\n",
       "      <td>2013-04-27 02:45:01+00:00</td>\n",
       "      <td>40</td>\n",
       "      <td>7</td>\n",
       "      <td>15.000000</td>\n",
       "    </tr>\n",
       "    <tr>\n",
       "      <th>1</th>\n",
       "      <td>1</td>\n",
       "      <td>OncomingStorm93</td>\n",
       "      <td>2012-12-01 17:49:21+00:00</td>\n",
       "      <td>41</td>\n",
       "      <td>328</td>\n",
       "      <td>9.000000</td>\n",
       "    </tr>\n",
       "    <tr>\n",
       "      <th>2</th>\n",
       "      <td>2</td>\n",
       "      <td>SorenBreese</td>\n",
       "      <td>2015-02-21 08:52:48+00:00</td>\n",
       "      <td>1</td>\n",
       "      <td>2</td>\n",
       "      <td>9.503512</td>\n",
       "    </tr>\n",
       "    <tr>\n",
       "      <th>3</th>\n",
       "      <td>3</td>\n",
       "      <td>Letterbox10</td>\n",
       "      <td>2014-06-10 23:34:17+00:00</td>\n",
       "      <td>22111</td>\n",
       "      <td>34</td>\n",
       "      <td>6.000000</td>\n",
       "    </tr>\n",
       "    <tr>\n",
       "      <th>4</th>\n",
       "      <td>4</td>\n",
       "      <td>ujames</td>\n",
       "      <td>2012-11-13 14:06:26+00:00</td>\n",
       "      <td>299</td>\n",
       "      <td>469</td>\n",
       "      <td>20.000000</td>\n",
       "    </tr>\n",
       "  </tbody>\n",
       "</table>\n",
       "</div>"
      ],
      "text/plain": [
       "   Unnamed: 0           author                    created  submissions  \\\n",
       "0           0   Ragin33Redhead  2013-04-27 02:45:01+00:00           40   \n",
       "1           1  OncomingStorm93  2012-12-01 17:49:21+00:00           41   \n",
       "2           2      SorenBreese  2015-02-21 08:52:48+00:00            1   \n",
       "3           3      Letterbox10  2014-06-10 23:34:17+00:00        22111   \n",
       "4           4           ujames  2012-11-13 14:06:26+00:00          299   \n",
       "\n",
       "   comments  daily_downtime  \n",
       "0         7       15.000000  \n",
       "1       328        9.000000  \n",
       "2         2        9.503512  \n",
       "3        34        6.000000  \n",
       "4       469       20.000000  "
      ]
     },
     "execution_count": 3,
     "metadata": {},
     "output_type": "execute_result"
    }
   ],
   "source": [
    "unfiltered_na_df = pd.read_csv('FINAL_DATASETS/large_unfiltered_NAs_final.csv')\n",
    "unfiltered_na_df.head()"
   ]
  },
  {
   "cell_type": "code",
   "execution_count": 13,
   "metadata": {},
   "outputs": [
    {
     "name": "stdout",
     "output_type": "stream",
     "text": [
      "KellyfromLeedsUK 0 911\n",
      "KellyfromLeedsUK 0 1138\n",
      "KellyfromLeedsUK 0 1220\n"
     ]
    }
   ],
   "source": [
    "normal_accounts_1 = os.listdir('NormalAccounts/')\n",
    "normal_accounts_2 = os.listdir('NormalAccounts2/')\n",
    "\n",
    "unwanted_accounts = []\n",
    "\n",
    "for i in range(len(unfiltered_na_df.author)):\n",
    "    if unfiltered_na_df.author[i] in normal_accounts_1:\n",
    "#         print(unfiltered_na_df.author[i], 1)\n",
    "        pass\n",
    "    elif unfiltered_na_df.author[i] in normal_accounts_2:\n",
    "#         print(unfiltered_na_df.author[i], 2)\n",
    "        pass\n",
    "    else:\n",
    "        unwanted_accounts.append(i)\n",
    "        print(unfiltered_na_df.author[i], 0, i)\n",
    "        \n",
    "unfiltered_na_df = unfiltered_na_df.drop(unfiltered_na_df.index[unwanted_accounts])"
   ]
  },
  {
   "cell_type": "code",
   "execution_count": 28,
   "metadata": {},
   "outputs": [],
   "source": [
    "unfiltered_na_df.reset_index(drop=True, inplace=True)"
   ]
  },
  {
   "cell_type": "code",
   "execution_count": 31,
   "metadata": {},
   "outputs": [],
   "source": [
    "unfiltered_na_df.drop(columns=['Unnamed: 0'], inplace=True)\n",
    "unfiltered_na_df.to_csv('FINAL_DATASETS/large_unfiltered_NAs_final.csv')"
   ]
  },
  {
   "cell_type": "code",
   "execution_count": 33,
   "metadata": {},
   "outputs": [
    {
     "data": {
      "text/html": [
       "<div>\n",
       "<style scoped>\n",
       "    .dataframe tbody tr th:only-of-type {\n",
       "        vertical-align: middle;\n",
       "    }\n",
       "\n",
       "    .dataframe tbody tr th {\n",
       "        vertical-align: top;\n",
       "    }\n",
       "\n",
       "    .dataframe thead th {\n",
       "        text-align: right;\n",
       "    }\n",
       "</style>\n",
       "<table border=\"1\" class=\"dataframe\">\n",
       "  <thead>\n",
       "    <tr style=\"text-align: right;\">\n",
       "      <th></th>\n",
       "      <th>author</th>\n",
       "      <th>created</th>\n",
       "      <th>submissions</th>\n",
       "      <th>comments</th>\n",
       "      <th>daily_downtime</th>\n",
       "    </tr>\n",
       "  </thead>\n",
       "  <tbody>\n",
       "    <tr>\n",
       "      <th>0</th>\n",
       "      <td>KellyStrack</td>\n",
       "      <td>2015-11-02 17:26:44+00:00</td>\n",
       "      <td>133</td>\n",
       "      <td>0</td>\n",
       "      <td>7.000000</td>\n",
       "    </tr>\n",
       "    <tr>\n",
       "      <th>1</th>\n",
       "      <td>kabir_chaudhary</td>\n",
       "      <td>2016-08-09 06:15:35+00:00</td>\n",
       "      <td>1</td>\n",
       "      <td>0</td>\n",
       "      <td>9.503512</td>\n",
       "    </tr>\n",
       "    <tr>\n",
       "      <th>2</th>\n",
       "      <td>pseph2016</td>\n",
       "      <td>2016-10-29 14:32:02+00:00</td>\n",
       "      <td>4</td>\n",
       "      <td>0</td>\n",
       "      <td>9.503512</td>\n",
       "    </tr>\n",
       "    <tr>\n",
       "      <th>3</th>\n",
       "      <td>akunnaila</td>\n",
       "      <td>2016-04-08 02:26:05+00:00</td>\n",
       "      <td>192</td>\n",
       "      <td>0</td>\n",
       "      <td>15.000000</td>\n",
       "    </tr>\n",
       "    <tr>\n",
       "      <th>4</th>\n",
       "      <td>alypigcahighve</td>\n",
       "      <td>2015-11-28 07:18:34+00:00</td>\n",
       "      <td>1</td>\n",
       "      <td>0</td>\n",
       "      <td>9.503512</td>\n",
       "    </tr>\n",
       "  </tbody>\n",
       "</table>\n",
       "</div>"
      ],
      "text/plain": [
       "            author                    created  submissions  comments  \\\n",
       "0      KellyStrack  2015-11-02 17:26:44+00:00          133         0   \n",
       "1  kabir_chaudhary  2016-08-09 06:15:35+00:00            1         0   \n",
       "2        pseph2016  2016-10-29 14:32:02+00:00            4         0   \n",
       "3        akunnaila  2016-04-08 02:26:05+00:00          192         0   \n",
       "4   alypigcahighve  2015-11-28 07:18:34+00:00            1         0   \n",
       "\n",
       "   daily_downtime  \n",
       "0        7.000000  \n",
       "1        9.503512  \n",
       "2        9.503512  \n",
       "3       15.000000  \n",
       "4        9.503512  "
      ]
     },
     "execution_count": 33,
     "metadata": {},
     "output_type": "execute_result"
    }
   ],
   "source": [
    "filtered_na_df = pd.read_csv('FINAL_DATASETS/small_filtered_NAs_final.csv')\n",
    "filtered_na_df.drop(columns=['Unnamed: 0'], inplace=True)\n",
    "filtered_na_df.head()"
   ]
  },
  {
   "cell_type": "code",
   "execution_count": 34,
   "metadata": {},
   "outputs": [],
   "source": [
    "for i in range(len(filtered_na_df.author)):\n",
    "    if filtered_na_df.author[i] in normal_accounts_1:\n",
    "#         print(unfiltered_na_df.author[i], 1)\n",
    "        pass\n",
    "    elif filtered_na_df.author[i] in normal_accounts_2:\n",
    "#         print(unfiltered_na_df.author[i], 2)\n",
    "        pass\n",
    "    else:\n",
    "        unwanted_accounts.append(i)\n",
    "        print(filtered_na_df.author[i], 0, i)\n",
    "        \n"
   ]
  },
  {
   "cell_type": "code",
   "execution_count": 35,
   "metadata": {},
   "outputs": [],
   "source": [
    "filtered_na_df.to_csv('FINAL_DATASETS/small_filtered_NAs_final.csv')"
   ]
  },
  {
   "cell_type": "code",
   "execution_count": 36,
   "metadata": {},
   "outputs": [],
   "source": [
    "susp_list = os.listdir('SuspiciousAccounts/')\n",
    "susp_df = pd.read_csv('FINAL_DATASETS/suspicious_accounts.csv')\n",
    "\n",
    "for i in range(len(susp_df.author)):\n",
    "    if susp_df.author[i] in susp_list:\n",
    "#         print(unfiltered_na_df.author[i], 1)\n",
    "        pass\n",
    "    else:\n",
    "        unwanted_accounts.append(i)\n",
    "        print(susp_df.author[i], 0, i)"
   ]
  },
  {
   "cell_type": "code",
   "execution_count": null,
   "metadata": {},
   "outputs": [],
   "source": []
  }
 ],
 "metadata": {
  "kernelspec": {
   "display_name": "Python 3",
   "language": "python",
   "name": "python3"
  },
  "language_info": {
   "codemirror_mode": {
    "name": "ipython",
    "version": 3
   },
   "file_extension": ".py",
   "mimetype": "text/x-python",
   "name": "python",
   "nbconvert_exporter": "python",
   "pygments_lexer": "ipython3",
   "version": "3.6.9"
  }
 },
 "nbformat": 4,
 "nbformat_minor": 2
}
